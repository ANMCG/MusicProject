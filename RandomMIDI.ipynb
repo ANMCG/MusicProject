{
 "cells": [
  {
   "cell_type": "code",
   "execution_count": 64,
   "metadata": {
    "collapsed": false
   },
   "outputs": [],
   "source": [
    "import os\n",
    "import mido\n",
    "from mido import MidiFile, MidiTrack, Message\n",
    "import random"
   ]
  },
  {
   "cell_type": "code",
   "execution_count": 68,
   "metadata": {
    "collapsed": false
   },
   "outputs": [],
   "source": [
    "notes = range(50, 62)\n",
    "times = range(50,300)\n",
    "\n",
    "noterange = range(12)\n",
    "\n",
    "# pitch range for random pitch value ;\n",
    "pitches = range(-8192,8191)\n",
    "\n",
    "for j in range(10):\n",
    "    \n",
    "    mid = MidiFile(type=0) # type0 can have only one track\n",
    "    \n",
    "    track = MidiTrack() # note list (kind of)\n",
    "\n",
    "    mid.tracks.append(track)\n",
    "    \n",
    "    # the note which the pitch will change for\n",
    "    pcnote = random.choice(noterange)\n",
    "    \n",
    "    for i in noterange:\n",
    "        \n",
    "        note = random.choice(notes)\n",
    "        time = random.choice(times)\n",
    "        pitch = random.choice(pitches)\n",
    "        \n",
    "        # Change the pitch for only one note\n",
    "        if i == pcnote: # Change the pitch on third note\n",
    "            track.append(Message('pitchwheel', pitch=pitch))\n",
    "        if i == (pcnote+1): # Change the pitch back to default\n",
    "            track.append(Message('pitchwheel'))\n",
    "        \n",
    "        track.append(Message('note_on', channel=0, note=note, time=time))\n",
    "        track.append(Message('note_off', channel=0, note=note, time=time))\n",
    "        \n",
    "\n",
    "    if not os.path.exists('music'):\n",
    "        os.makedirs('music')\n",
    "        \n",
    "    mid.save('music/random' + str(j) + '.mid')"
   ]
  },
  {
   "cell_type": "code",
   "execution_count": 66,
   "metadata": {
    "collapsed": true
   },
   "outputs": [],
   "source": [
    "mid2 = MidiFile('music/random4.mid')"
   ]
  },
  {
   "cell_type": "code",
   "execution_count": 67,
   "metadata": {
    "collapsed": true
   },
   "outputs": [
    {
     "name": "stdout",
     "output_type": "stream",
     "text": [
      "Track 0: \n",
      "note_on channel=0 note=59 velocity=64 time=228\n",
      "note_off channel=0 note=59 velocity=64 time=228\n",
      "note_on channel=0 note=57 velocity=64 time=107\n",
      "note_off channel=0 note=57 velocity=64 time=107\n",
      "note_on channel=0 note=52 velocity=64 time=128\n",
      "note_off channel=0 note=52 velocity=64 time=128\n",
      "note_on channel=0 note=58 velocity=64 time=90\n",
      "note_off channel=0 note=58 velocity=64 time=90\n",
      "note_on channel=0 note=58 velocity=64 time=120\n",
      "note_off channel=0 note=58 velocity=64 time=120\n",
      "pitchwheel channel=0 pitch=103 time=0\n",
      "note_on channel=0 note=51 velocity=64 time=120\n",
      "note_off channel=0 note=51 velocity=64 time=120\n",
      "pitchwheel channel=0 pitch=0 time=0\n",
      "note_on channel=0 note=59 velocity=64 time=260\n",
      "note_off channel=0 note=59 velocity=64 time=260\n",
      "note_on channel=0 note=51 velocity=64 time=281\n",
      "note_off channel=0 note=51 velocity=64 time=281\n",
      "note_on channel=0 note=55 velocity=64 time=293\n",
      "note_off channel=0 note=55 velocity=64 time=293\n",
      "note_on channel=0 note=61 velocity=64 time=89\n",
      "note_off channel=0 note=61 velocity=64 time=89\n",
      "note_on channel=0 note=60 velocity=64 time=281\n",
      "note_off channel=0 note=60 velocity=64 time=281\n",
      "note_on channel=0 note=56 velocity=64 time=141\n",
      "note_off channel=0 note=56 velocity=64 time=141\n",
      "<meta message end_of_track time=0>\n"
     ]
    }
   ],
   "source": [
    "for i, track in enumerate(mid2.tracks):\n",
    "    print('Track {}: {}'.format(i, track.name))\n",
    "    for message in track:\n",
    "#        message.note = 51\n",
    "        print(message)"
   ]
  },
  {
   "cell_type": "code",
   "execution_count": null,
   "metadata": {
    "collapsed": true
   },
   "outputs": [],
   "source": []
  }
 ],
 "metadata": {
  "kernelspec": {
   "display_name": "Python 3",
   "language": "python",
   "name": "python3"
  },
  "language_info": {
   "codemirror_mode": {
    "name": "ipython",
    "version": 3
   },
   "file_extension": ".py",
   "mimetype": "text/x-python",
   "name": "python",
   "nbconvert_exporter": "python",
   "pygments_lexer": "ipython3",
   "version": "3.5.1"
  }
 },
 "nbformat": 4,
 "nbformat_minor": 0
}
