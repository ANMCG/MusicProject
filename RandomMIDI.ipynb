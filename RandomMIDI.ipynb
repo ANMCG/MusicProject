{
 "cells": [
  {
   "cell_type": "code",
   "execution_count": 17,
   "metadata": {
    "collapsed": false
   },
   "outputs": [],
   "source": [
    "import os\n",
    "import mido\n",
    "from mido import MidiFile, MidiTrack, Message\n",
    "import random\n",
    "\n",
    "import json\n",
    "\n",
    "import geneticalgorithm as ga"
   ]
  },
  {
   "cell_type": "code",
   "execution_count": 3,
   "metadata": {
    "collapsed": false
   },
   "outputs": [],
   "source": [
    "def generate_random(snote=50, mlength=12, numofmidi=10, time=150, filename='random', pitchrnd=False):\n",
    "    \n",
    "    notes = range(snote, snote+mlength)\n",
    "    \n",
    "    noterange = range(mlength)\n",
    "\n",
    "    # pitch range for random pitch value ;\n",
    "    pitches = range(-8192,8191)\n",
    "    \n",
    "    # Create music folder if it does not exist\n",
    "    if not os.path.exists('music'):\n",
    "        os.makedirs('music')\n",
    "\n",
    "    for j in range(numofmidi):\n",
    "    \n",
    "        mid = MidiFile(type=0) # type0 can have only one track\n",
    "    \n",
    "        track = MidiTrack() # note list (kind of)\n",
    "\n",
    "        mid.tracks.append(track)\n",
    "    \n",
    "        # the note which the pitch will change for\n",
    "        pitchnote = random.choice(noterange)\n",
    "        numofpnote = random.choice(noterange)\n",
    "    \n",
    "        for i in noterange:\n",
    "        \n",
    "            note = random.choice(notes)\n",
    "            pitch = random.choice(pitches)\n",
    "        \n",
    "            if pitchrnd:\n",
    "                if i == pitchnote: # Change the pitch on the note\n",
    "                    track.append(Message('pitchwheel', pitch=pitch))\n",
    "                if i == (pitchnote+numofpnote): # Change the pitch back to default\n",
    "                    track.append(Message('pitchwheel'))\n",
    "        \n",
    "            track.append(Message('note_on', note=note, time=time))\n",
    "            track.append(Message('note_off', note=note, time=time))\n",
    "            \n",
    "        note = random.choice(notes)\n",
    "        track.append(Message('note_on', note=note, time=time))\n",
    "        track.append(Message('note_off', note=note, time=500))\n",
    "        \n",
    "\n",
    "        mid.save('music/' + filename + str(j) + '.mid')"
   ]
  },
  {
   "cell_type": "raw",
   "metadata": {
    "collapsed": true
   },
   "source": [
    "def fitnessfunction(m,p):\n",
    "    fitness = 1\n",
    "    for x in range (1,mlength):\n",
    "        fitness= fitness * p[m[x-1]][m[x]]\n",
    "    return fitness"
   ]
  },
  {
   "cell_type": "raw",
   "metadata": {
    "collapsed": false
   },
   "source": [
    "def mutate(notelist, mlength=12):\n",
    "    \n",
    "    prob = []    \n",
    "    for x in range(0,12):\n",
    "        a=nprnd.sample(12)\n",
    "        a=a/sum(a)\n",
    "        prob.append(a)\n",
    "    \n",
    "    bestscore = 0  \n",
    "    progress = []\n",
    "    mutaterange=[0,1,2,3,4,5,6,7,8,9,10,11]\n",
    "    \n",
    "    # notelist of the midi\n",
    "    bestmelody = notelist\n",
    "    \n",
    "    #each loop decreases the number of mutations per round\n",
    "    for i in range (0,5):\n",
    "\n",
    "        #each loop mutates the currentbest, checks it's fitness and updates currentbest   \n",
    "        for x in range (0,1000):\n",
    "            melody=list(bestmelody)      \n",
    "            r = nprnd.randint(0,mlength,abs(i-6))\n",
    "            for z in r:\n",
    "                mutaterangecopy=list(mutaterange)\n",
    "                mutaterangecopy.remove(melody[z])\n",
    "                melody[z]= nprnd.choice(mutaterangecopy,1)[0]\n",
    "        \n",
    "        \n",
    "            currentscore = fitnessfunction(melody,prob)\n",
    "            if currentscore >= bestscore:\n",
    "                bestscore = currentscore\n",
    "                bestmelody = list(melody)\n",
    "        \n",
    "            progress.append(bestscore)\n",
    "            \n",
    "    return bestmelody"
   ]
  },
  {
   "cell_type": "code",
   "execution_count": 4,
   "metadata": {
    "collapsed": false
   },
   "outputs": [],
   "source": [
    "def apply_mutation(mutantnotelist, midino, snote=50, time=150, filename='random'):\n",
    "\n",
    "    mid = MidiFile(type=0) # type0 can have only one track\n",
    "    \n",
    "    track = MidiTrack() # note list (kind of)\n",
    "\n",
    "    mid.tracks.append(track)\n",
    "    \n",
    "    # Create mutant music folder if it does not exist\n",
    "    if not os.path.exists('mutantmusic'):\n",
    "        os.makedirs('mutantmusic')\n",
    "    \n",
    "    # add the octaves back\n",
    "    mutantnotelist2 = [x+snote for x in mutantnotelist]\n",
    "    \n",
    "    for note in mutantnotelist2[:10]:\n",
    "        \n",
    "        #print(note)\n",
    "        \n",
    "        track.append(Message('note_on', note=int(note), time=time))\n",
    "        track.append(Message('note_off', note=int(note), time=time))\n",
    "        \n",
    "    track.append(Message('note_on', note=mutantnotelist2[11], time=time))\n",
    "    track.append(Message('note_off', note=mutantnotelist2[11], time=500))\n",
    "        \n",
    "        \n",
    "    mid.save('mutantmusic/' + filename + str(midino) + '.mid')"
   ]
  },
  {
   "cell_type": "code",
   "execution_count": 5,
   "metadata": {
    "collapsed": true
   },
   "outputs": [],
   "source": [
    "def read_midi(midiname, snote=50):\n",
    "    \n",
    "    mid = MidiFile(midiname)\n",
    "    \n",
    "    noteonlist = []\n",
    "    for i, track in enumerate(mid.tracks):\n",
    "        #print('Track {}: {}'.format(i, track.name))\n",
    "        for message in track:\n",
    "            #print(message)\n",
    "            if message.type == 'note_on':\n",
    "                noteonlist.append(message.note)\n",
    "    \n",
    "    # normalize the note integers for mutation by reducing octaves\n",
    "    notelist = [x-snote for x in noteonlist]\n",
    "    \n",
    "    return notelist"
   ]
  },
  {
   "cell_type": "code",
   "execution_count": 6,
   "metadata": {
    "collapsed": true
   },
   "outputs": [],
   "source": [
    "mlength = 11\n",
    "snote = 50 # starting note\n",
    "numofmidi = 10 # number of midi files\n",
    "time = 150\n",
    "filename='random'\n",
    "pitchrnd=False # do not include pitch variations for now"
   ]
  },
  {
   "cell_type": "code",
   "execution_count": 6,
   "metadata": {
    "collapsed": false
   },
   "outputs": [],
   "source": [
    "generate_random(snote, mlength, numofmidi, time, filename, pitchrnd)\n",
    "\n",
    "for j in range(numofmidi):\n",
    "    \n",
    "    midiname = 'music/' + filename + str(j) + '.mid'\n",
    "    \n",
    "    notelist = read_midi(midiname)\n",
    "    \n",
    "    mutantnotelist = ga.mutate(notelist, mlength)\n",
    "    \n",
    "    apply_mutation(mutantnotelist, j, snote, time, filename)\n",
    "    \n",
    "    "
   ]
  },
  {
   "cell_type": "code",
   "execution_count": 27,
   "metadata": {
    "collapsed": true
   },
   "outputs": [],
   "source": [
    "notelists = {}"
   ]
  },
  {
   "cell_type": "code",
   "execution_count": 28,
   "metadata": {
    "collapsed": true
   },
   "outputs": [
    {
     "name": "stdout",
     "output_type": "stream",
     "text": [
      "gf 0 [11, 9, 7, 4, 2, 2, 2, 2, 4, 2, 2, 9]\n",
      "gs 0 [3, 9, 9, 9, 1, 11, 9, 7, 7, 7, 7, 10]\n",
      "r 0 [7, 2, 4, 5, 10, 11, 2, 4, 7, 5, 5, 7, 4]\n",
      "gf 1 [11, 9, 7, 6, 4, 2, 0, 11, 9, 7, 7, 4]\n",
      "gs 1 [5, 3, 2, 0, 11, 9, 7, 9, 10, 0, 10, 5]\n",
      "r 1 [11, 3, 11, 10, 2, 0, 2, 9, 7, 11, 0, 0, 2]\n",
      "gf 2 [11, 9, 7, 6, 4, 2, 11, 9, 7, 7, 9, 3]\n",
      "gs 2 [3, 9, 9, 9, 9, 9, 9, 9, 9, 9, 9, 10]\n",
      "r 2 [10, 9, 9, 8, 1, 0, 7, 5, 4, 5, 4, 11, 5]\n",
      "gf 3 [1, 11, 9, 11, 9, 9, 7, 6, 4, 2, 11, 11]\n",
      "gs 3 [8, 0, 10, 9, 7, 5, 0, 0, 0, 0, 0, 2]\n",
      "r 3 [3, 10, 10, 11, 4, 1, 2, 0, 1, 7, 7, 7, 1]\n",
      "gf 4 [11, 9, 7, 6, 4, 2, 2, 0, 11, 9, 9, 5]\n",
      "gs 4 [8, 6, 4, 2, 0, 11, 9, 7, 9, 1, 11, 9]\n",
      "r 4 [5, 4, 1, 1, 0, 9, 7, 0, 0, 9, 11, 9, 2]\n",
      "gf 5 [1, 11, 9, 7, 9, 11, 9, 11, 9, 11, 9, 11]\n",
      "gs 5 [10, 1, 0, 10, 9, 7, 7, 7, 7, 7, 7, 7]\n",
      "r 5 [0, 7, 1, 1, 3, 6, 9, 1, 7, 11, 8, 6, 6]\n",
      "gf 6 [4, 2, 0, 11, 9, 7, 6, 4, 2, 0, 11, 5]\n",
      "gs 6 [8, 6, 4, 2, 8, 0, 10, 9, 7, 9, 10, 9]\n",
      "r 6 [5, 7, 4, 7, 4, 0, 11, 9, 2, 2, 7, 7, 1]\n",
      "gf 7 [11, 9, 11, 9, 9, 11, 9, 9, 7, 7, 9, 6]\n",
      "gs 7 [5, 4, 2, 2, 2, 2, 3, 2, 0, 11, 9, 0]\n",
      "r 7 [5, 2, 7, 8, 11, 3, 10, 0, 8, 5, 7, 0, 10]\n",
      "gf 8 [4, 2, 2, 2, 0, 11, 9, 9, 7, 6, 4, 10]\n",
      "gs 8 [10, 8, 7, 5, 4, 2, 0, 11, 9, 7, 6, 1]\n",
      "r 8 [0, 10, 3, 7, 7, 8, 8, 8, 4, 0, 6, 11, 0]\n",
      "gf 9 [1, 11, 9, 11, 9, 11, 9, 11, 9, 1, 11, 11]\n",
      "gs 9 [0, 10, 9, 7, 6, 4, 6, 1, 4, 1, 11, 5]\n",
      "r 9 [5, 9, 5, 5, 6, 1, 5, 8, 9, 9, 8, 5, 0]\n",
      "{'gs2': [3, 9, 9, 9, 9, 9, 9, 9, 9, 9, 9, 10], 'r7': [5, 2, 7, 8, 11, 3, 10, 0, 8, 5, 7, 0, 10], 'gs3': [8, 0, 10, 9, 7, 5, 0, 0, 0, 0, 0, 2], 'gs4': [8, 6, 4, 2, 0, 11, 9, 7, 9, 1, 11, 9], 'r3': [3, 10, 10, 11, 4, 1, 2, 0, 1, 7, 7, 7, 1], 'gf5': [1, 11, 9, 7, 9, 11, 9, 11, 9, 11, 9, 11], 'gs6': [8, 6, 4, 2, 8, 0, 10, 9, 7, 9, 10, 9], 'gf4': [11, 9, 7, 6, 4, 2, 2, 0, 11, 9, 9, 5], 'gs5': [10, 1, 0, 10, 9, 7, 7, 7, 7, 7, 7, 7], 'gf3': [1, 11, 9, 11, 9, 9, 7, 6, 4, 2, 11, 11], 'gf0': [11, 9, 7, 4, 2, 2, 2, 2, 4, 2, 2, 9], 'gs9': [0, 10, 9, 7, 6, 4, 6, 1, 4, 1, 11, 5], 'r9': [5, 9, 5, 5, 6, 1, 5, 8, 9, 9, 8, 5, 0], 'r4': [5, 4, 1, 1, 0, 9, 7, 0, 0, 9, 11, 9, 2], 'r0': [7, 2, 4, 5, 10, 11, 2, 4, 7, 5, 5, 7, 4], 'gf8': [4, 2, 2, 2, 0, 11, 9, 9, 7, 6, 4, 10], 'gf2': [11, 9, 7, 6, 4, 2, 11, 9, 7, 7, 9, 3], 'r1': [11, 3, 11, 10, 2, 0, 2, 9, 7, 11, 0, 0, 2], 'gf7': [11, 9, 11, 9, 9, 11, 9, 9, 7, 7, 9, 6], 'gs0': [3, 9, 9, 9, 1, 11, 9, 7, 7, 7, 7, 10], 'r8': [0, 10, 3, 7, 7, 8, 8, 8, 4, 0, 6, 11, 0], 'gs1': [5, 3, 2, 0, 11, 9, 7, 9, 10, 0, 10, 5], 'gf9': [1, 11, 9, 11, 9, 11, 9, 11, 9, 1, 11, 11], 'gs8': [10, 8, 7, 5, 4, 2, 0, 11, 9, 7, 6, 1], 'gf1': [11, 9, 7, 6, 4, 2, 0, 11, 9, 7, 7, 4], 'gf6': [4, 2, 0, 11, 9, 7, 6, 4, 2, 0, 11, 5], 'r2': [10, 9, 9, 8, 1, 0, 7, 5, 4, 5, 4, 11, 5], 'gs7': [5, 4, 2, 2, 2, 2, 3, 2, 0, 11, 9, 0], 'r5': [0, 7, 1, 1, 3, 6, 9, 1, 7, 11, 8, 6, 6], 'r6': [5, 7, 4, 7, 4, 0, 11, 9, 2, 2, 7, 7, 1]}\n"
     ]
    }
   ],
   "source": [
    "# Read the notes and generate the integer list \n",
    "for j in range(10):\n",
    "    \n",
    "    for filename in ['gf', 'gs', 'r']:\n",
    "    \n",
    "        midiname = 'melodies/' + filename + str(j) + '.mid'\n",
    "    \n",
    "        notelist = read_midi(midiname)\n",
    "    \n",
    "        print(filename, str(j), notelist)\n",
    "    \n",
    "        notelists[filename + str(j)] = notelist\n",
    "    \n",
    "\n",
    "print(notelists)"
   ]
  },
  {
   "cell_type": "code",
   "execution_count": 36,
   "metadata": {
    "collapsed": false
   },
   "outputs": [],
   "source": [
    "with open('notelists.json') as f:    \n",
    "    data = json.load(f)"
   ]
  },
  {
   "cell_type": "code",
   "execution_count": 38,
   "metadata": {
    "collapsed": false
   },
   "outputs": [
    {
     "data": {
      "text/plain": [
       "{'gf0': [11, 9, 7, 4, 2, 2, 2, 2, 4, 2, 2, 9],\n",
       " 'gf1': [11, 9, 7, 6, 4, 2, 0, 11, 9, 7, 7, 4],\n",
       " 'gf2': [11, 9, 7, 6, 4, 2, 11, 9, 7, 7, 9, 3],\n",
       " 'gf3': [1, 11, 9, 11, 9, 9, 7, 6, 4, 2, 11, 11],\n",
       " 'gf4': [11, 9, 7, 6, 4, 2, 2, 0, 11, 9, 9, 5],\n",
       " 'gf5': [1, 11, 9, 7, 9, 11, 9, 11, 9, 11, 9, 11],\n",
       " 'gf6': [4, 2, 0, 11, 9, 7, 6, 4, 2, 0, 11, 5],\n",
       " 'gf7': [11, 9, 11, 9, 9, 11, 9, 9, 7, 7, 9, 6],\n",
       " 'gf8': [4, 2, 2, 2, 0, 11, 9, 9, 7, 6, 4, 10],\n",
       " 'gf9': [1, 11, 9, 11, 9, 11, 9, 11, 9, 1, 11, 11],\n",
       " 'gs0': [3, 9, 9, 9, 1, 11, 9, 7, 7, 7, 7, 10],\n",
       " 'gs1': [5, 3, 2, 0, 11, 9, 7, 9, 10, 0, 10, 5],\n",
       " 'gs2': [3, 9, 9, 9, 9, 9, 9, 9, 9, 9, 9, 10],\n",
       " 'gs3': [8, 0, 10, 9, 7, 5, 0, 0, 0, 0, 0, 2],\n",
       " 'gs4': [8, 6, 4, 2, 0, 11, 9, 7, 9, 1, 11, 9],\n",
       " 'gs5': [10, 1, 0, 10, 9, 7, 7, 7, 7, 7, 7, 7],\n",
       " 'gs6': [8, 6, 4, 2, 8, 0, 10, 9, 7, 9, 10, 9],\n",
       " 'gs7': [5, 4, 2, 2, 2, 2, 3, 2, 0, 11, 9, 0],\n",
       " 'gs8': [10, 8, 7, 5, 4, 2, 0, 11, 9, 7, 6, 1],\n",
       " 'gs9': [0, 10, 9, 7, 6, 4, 6, 1, 4, 1, 11, 5],\n",
       " 'r0': [7, 2, 4, 5, 10, 11, 2, 4, 7, 5, 5, 7, 4],\n",
       " 'r1': [11, 3, 11, 10, 2, 0, 2, 9, 7, 11, 0, 0, 2],\n",
       " 'r2': [10, 9, 9, 8, 1, 0, 7, 5, 4, 5, 4, 11, 5],\n",
       " 'r3': [3, 10, 10, 11, 4, 1, 2, 0, 1, 7, 7, 7, 1],\n",
       " 'r4': [5, 4, 1, 1, 0, 9, 7, 0, 0, 9, 11, 9, 2],\n",
       " 'r5': [0, 7, 1, 1, 3, 6, 9, 1, 7, 11, 8, 6, 6],\n",
       " 'r6': [5, 7, 4, 7, 4, 0, 11, 9, 2, 2, 7, 7, 1],\n",
       " 'r7': [5, 2, 7, 8, 11, 3, 10, 0, 8, 5, 7, 0, 10],\n",
       " 'r8': [0, 10, 3, 7, 7, 8, 8, 8, 4, 0, 6, 11, 0],\n",
       " 'r9': [5, 9, 5, 5, 6, 1, 5, 8, 9, 9, 8, 5, 0]}"
      ]
     },
     "execution_count": 38,
     "metadata": {},
     "output_type": "execute_result"
    }
   ],
   "source": [
    "data"
   ]
  },
  {
   "cell_type": "code",
   "execution_count": 40,
   "metadata": {
    "collapsed": false
   },
   "outputs": [
    {
     "data": {
      "text/plain": [
       "30"
      ]
     },
     "execution_count": 40,
     "metadata": {},
     "output_type": "execute_result"
    }
   ],
   "source": [
    "len(data)"
   ]
  }
 ],
 "metadata": {
  "kernelspec": {
   "display_name": "Python 3",
   "language": "python",
   "name": "python3"
  },
  "language_info": {
   "codemirror_mode": {
    "name": "ipython",
    "version": 3
   },
   "file_extension": ".py",
   "mimetype": "text/x-python",
   "name": "python",
   "nbconvert_exporter": "python",
   "pygments_lexer": "ipython3",
   "version": "3.5.1"
  }
 },
 "nbformat": 4,
 "nbformat_minor": 0
}
