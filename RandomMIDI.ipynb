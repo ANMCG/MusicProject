{
 "cells": [
  {
   "cell_type": "code",
   "execution_count": 1,
   "metadata": {
    "collapsed": false
   },
   "outputs": [],
   "source": [
    "import os\n",
    "import mido\n",
    "from mido import MidiFile, MidiTrack, Message\n",
    "import random\n",
    "\n",
    "import geneticalgorithm as ga"
   ]
  },
  {
   "cell_type": "code",
   "execution_count": 2,
   "metadata": {
    "collapsed": false
   },
   "outputs": [],
   "source": [
    "def generate_random(snote=50, mlength=12, numofmidi=10, time=150, filename='random', pitchrnd=False):\n",
    "    \n",
    "    notes = range(snote, snote+mlength)\n",
    "    \n",
    "    noterange = range(mlength)\n",
    "\n",
    "    # pitch range for random pitch value ;\n",
    "    pitches = range(-8192,8191)\n",
    "    \n",
    "    # Create music folder if it does not exist\n",
    "    if not os.path.exists('music'):\n",
    "        os.makedirs('music')\n",
    "\n",
    "    for j in range(numofmidi):\n",
    "    \n",
    "        mid = MidiFile(type=0) # type0 can have only one track\n",
    "    \n",
    "        track = MidiTrack() # note list (kind of)\n",
    "\n",
    "        mid.tracks.append(track)\n",
    "    \n",
    "        # the note which the pitch will change for\n",
    "        pitchnote = random.choice(noterange)\n",
    "        numofpnote = random.choice(noterange)\n",
    "    \n",
    "        for i in noterange:\n",
    "        \n",
    "            note = random.choice(notes)\n",
    "            pitch = random.choice(pitches)\n",
    "        \n",
    "            if pitchrnd:\n",
    "                if i == pitchnote: # Change the pitch on the note\n",
    "                    track.append(Message('pitchwheel', pitch=pitch))\n",
    "                if i == (pitchnote+numofpnote): # Change the pitch back to default\n",
    "                    track.append(Message('pitchwheel'))\n",
    "        \n",
    "            track.append(Message('note_on', note=note, time=time))\n",
    "            track.append(Message('note_off', note=note, time=time))\n",
    "            \n",
    "        note = random.choice(notes)\n",
    "        track.append(Message('note_on', note=note, time=time))\n",
    "        track.append(Message('note_off', note=note, time=500))\n",
    "        \n",
    "\n",
    "        mid.save('music/' + filename + str(j) + '.mid')"
   ]
  },
  {
   "cell_type": "raw",
   "metadata": {
    "collapsed": true
   },
   "source": [
    "def fitnessfunction(m,p):\n",
    "    fitness = 1\n",
    "    for x in range (1,mlength):\n",
    "        fitness= fitness * p[m[x-1]][m[x]]\n",
    "    return fitness"
   ]
  },
  {
   "cell_type": "raw",
   "metadata": {
    "collapsed": false
   },
   "source": [
    "def mutate(notelist, mlength=12):\n",
    "    \n",
    "    prob = []    \n",
    "    for x in range(0,12):\n",
    "        a=nprnd.sample(12)\n",
    "        a=a/sum(a)\n",
    "        prob.append(a)\n",
    "    \n",
    "    bestscore = 0  \n",
    "    progress = []\n",
    "    mutaterange=[0,1,2,3,4,5,6,7,8,9,10,11]\n",
    "    \n",
    "    # notelist of the midi\n",
    "    bestmelody = notelist\n",
    "    \n",
    "    #each loop decreases the number of mutations per round\n",
    "    for i in range (0,5):\n",
    "\n",
    "        #each loop mutates the currentbest, checks it's fitness and updates currentbest   \n",
    "        for x in range (0,1000):\n",
    "            melody=list(bestmelody)      \n",
    "            r = nprnd.randint(0,mlength,abs(i-6))\n",
    "            for z in r:\n",
    "                mutaterangecopy=list(mutaterange)\n",
    "                mutaterangecopy.remove(melody[z])\n",
    "                melody[z]= nprnd.choice(mutaterangecopy,1)[0]\n",
    "        \n",
    "        \n",
    "            currentscore = fitnessfunction(melody,prob)\n",
    "            if currentscore >= bestscore:\n",
    "                bestscore = currentscore\n",
    "                bestmelody = list(melody)\n",
    "        \n",
    "            progress.append(bestscore)\n",
    "            \n",
    "    return bestmelody"
   ]
  },
  {
   "cell_type": "code",
   "execution_count": 3,
   "metadata": {
    "collapsed": false
   },
   "outputs": [],
   "source": [
    "def apply_mutation(mutantnotelist, midino, snote=50, time=150, filename='random'):\n",
    "\n",
    "    mid = MidiFile(type=0) # type0 can have only one track\n",
    "    \n",
    "    track = MidiTrack() # note list (kind of)\n",
    "\n",
    "    mid.tracks.append(track)\n",
    "    \n",
    "    # Create mutant music folder if it does not exist\n",
    "    if not os.path.exists('mutantmusic'):\n",
    "        os.makedirs('mutantmusic')\n",
    "    \n",
    "    # add the octaves back\n",
    "    mutantnotelist2 = [x+snote for x in mutantnotelist]\n",
    "    \n",
    "    for note in mutantnotelist2[:10]:\n",
    "        \n",
    "        #print(note)\n",
    "        \n",
    "        track.append(Message('note_on', note=int(note), time=time))\n",
    "        track.append(Message('note_off', note=int(note), time=time))\n",
    "        \n",
    "    track.append(Message('note_on', note=mutantnotelist2[11], time=time))\n",
    "    track.append(Message('note_off', note=mutantnotelist2[11], time=500))\n",
    "        \n",
    "        \n",
    "    mid.save('mutantmusic/' + filename + str(midino) + '.mid')"
   ]
  },
  {
   "cell_type": "code",
   "execution_count": 4,
   "metadata": {
    "collapsed": true
   },
   "outputs": [],
   "source": [
    "def read_midi(midiname, snote=50):\n",
    "    \n",
    "    mid = MidiFile(midiname)\n",
    "    \n",
    "    noteonlist = []\n",
    "    for i, track in enumerate(mid.tracks):\n",
    "        #print('Track {}: {}'.format(i, track.name))\n",
    "        for message in track:\n",
    "            #print(message)\n",
    "            if message.type == 'note_on':\n",
    "                noteonlist.append(message.note)\n",
    "    \n",
    "    # normalize the note integers for mutation by reducing octaves\n",
    "    notelist = [x-snote for x in noteonlist]\n",
    "    \n",
    "    return notelist"
   ]
  },
  {
   "cell_type": "code",
   "execution_count": 5,
   "metadata": {
    "collapsed": true
   },
   "outputs": [],
   "source": [
    "mlength = 11\n",
    "snote = 50 # starting note\n",
    "numofmidi = 10 # number of midi files\n",
    "time = 150\n",
    "filename='random'\n",
    "pitchrnd=False # do not include pitch variations for now"
   ]
  },
  {
   "cell_type": "code",
   "execution_count": 6,
   "metadata": {
    "collapsed": false
   },
   "outputs": [],
   "source": [
    "generate_random(snote, mlength, numofmidi, time, filename, pitchrnd)\n",
    "\n",
    "for j in range(numofmidi):\n",
    "    \n",
    "    midiname = 'music/' + filename + str(j) + '.mid'\n",
    "    \n",
    "    notelist = read_midi(midiname)\n",
    "    \n",
    "    mutantnotelist = ga.mutate(notelist, mlength)\n",
    "    \n",
    "    apply_mutation(mutantnotelist, j, snote, time, filename)\n",
    "    \n",
    "    "
   ]
  },
  {
   "cell_type": "code",
   "execution_count": null,
   "metadata": {
    "collapsed": true
   },
   "outputs": [],
   "source": []
  }
 ],
 "metadata": {
  "kernelspec": {
   "display_name": "Python 3",
   "language": "python",
   "name": "python3"
  },
  "language_info": {
   "codemirror_mode": {
    "name": "ipython",
    "version": 3
   },
   "file_extension": ".py",
   "mimetype": "text/x-python",
   "name": "python",
   "nbconvert_exporter": "python",
   "pygments_lexer": "ipython3",
   "version": "3.5.1"
  }
 },
 "nbformat": 4,
 "nbformat_minor": 0
}
